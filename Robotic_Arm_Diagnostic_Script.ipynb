{
  "cells": [
    {
      "cell_type": "markdown",
      "metadata": {
        "id": "view-in-github",
        "colab_type": "text"
      },
      "source": [
        "<a href=\"https://colab.research.google.com/github/AtharvThorat109/python-cpp-projects/blob/main/Robotic_Arm_Diagnostic_Script.ipynb\" target=\"_parent\"><img src=\"https://colab.research.google.com/assets/colab-badge.svg\" alt=\"Open In Colab\"/></a>"
      ]
    },
    {
      "cell_type": "code",
      "source": [
        "import time\n",
        "import random\n",
        "\n",
        "# Simulating the control system diagnostic notebook\n",
        "def check_response_time(command):\n",
        "    \"\"\"\n",
        "    Simulates the execution time of a robotic arm command.\n",
        "    \"\"\"\n",
        "    # Expected times based on the prompt's instructions\n",
        "    expected_times = {\n",
        "        'move_arm': 0.10,\n",
        "        'rotate_joint': 0.10,  # The original expected time before delay report\n",
        "        'adjust_grip': 0.09\n",
        "    }\n",
        "\n",
        "    # Simulating the measured times based on the problem description\n",
        "    # The 'rotate_joint' command is the one with the reported delay\n",
        "    if command == 'rotate_joint':\n",
        "        # Simulate a delay, making the measured time 0.18 as per the ticket\n",
        "        measured_time = 0.18\n",
        "    elif command == 'move_arm':\n",
        "        # Simulate a time close to the expected 0.10, with some randomness\n",
        "        measured_time = 0.10 + random.uniform(-0.01, 0.01)\n",
        "    elif command == 'adjust_grip':\n",
        "        # Simulate a time close to the expected 0.09, with some randomness\n",
        "        measured_time = 0.09 + random.uniform(-0.01, 0.01)\n",
        "    else:\n",
        "        print(f\"Unknown command: {command}\")\n",
        "        return None\n",
        "\n",
        "    # Simulate the execution\n",
        "    time.sleep(measured_time)\n",
        "\n",
        "    return round(measured_time, 2)\n",
        "\n",
        "# --- Diagnostic Process ---\n",
        "print(\"Running diagnostic checks on robotic arm commands...\\n\")\n",
        "\n",
        "# Commands to be tested\n",
        "commands = ['move_arm', 'rotate_joint', 'adjust_grip']\n",
        "initial_response_times = {}\n",
        "\n",
        "# Run the function for each command and record the results\n",
        "for command in commands:\n",
        "    print(f\"Testing command: {command}...\")\n",
        "    measured_time = check_response_time(command)\n",
        "    if measured_time is not None:\n",
        "        initial_response_times[command] = measured_time\n",
        "        print(f\"  - Measured response time: {measured_time} seconds\\n\")\n",
        "\n",
        "print(\"--- Diagnostic Summary ---\")\n",
        "print(\"Initial Response Times:\")\n",
        "for command, time_taken in initial_response_times.items():\n",
        "    print(f\"  - {command}: {time_taken} seconds\")\n",
        "\n",
        "# Confirming the discrepancy for rotate_joint\n",
        "expected_rotate_joint_time = 0.10  # from the diagnostic report template\n",
        "measured_rotate_joint_time = initial_response_times.get('rotate_joint')\n",
        "\n",
        "if measured_rotate_joint_time and measured_rotate_joint_time > expected_rotate_joint_time:\n",
        "    print(\"\\nConfirmation: The 'rotate_joint' command is experiencing a delay as reported.\")\n",
        "else:\n",
        "    print(\"\\nNo significant delay detected for 'rotate_joint'. Further investigation may be needed.\")"
      ],
      "outputs": [
        {
          "output_type": "stream",
          "name": "stdout",
          "text": [
            "Running diagnostic checks on robotic arm commands...\n",
            "\n",
            "Testing command: move_arm...\n",
            "  - Measured response time: 0.1 seconds\n",
            "\n",
            "Testing command: rotate_joint...\n",
            "  - Measured response time: 0.18 seconds\n",
            "\n",
            "Testing command: adjust_grip...\n",
            "  - Measured response time: 0.09 seconds\n",
            "\n",
            "--- Diagnostic Summary ---\n",
            "Initial Response Times:\n",
            "  - move_arm: 0.1 seconds\n",
            "  - rotate_joint: 0.18 seconds\n",
            "  - adjust_grip: 0.09 seconds\n",
            "\n",
            "Confirmation: The 'rotate_joint' command is experiencing a delay as reported.\n"
          ]
        }
      ],
      "execution_count": 2,
      "metadata": {
        "colab": {
          "base_uri": "https://localhost:8080/"
        },
        "id": "LG1bsDQtLW3b",
        "outputId": "28dc471f-c3a9-4543-e36c-5253e84fd3a3"
      }
    },
    {
      "cell_type": "code",
      "source": [
        "# This script simulates the initial and optimized metrics for the robotic arm.\n",
        "\n",
        "def simulate_optimization(initial_metrics):\n",
        "    \"\"\"\n",
        "    Takes a dictionary of initial metrics and returns a new dictionary\n",
        "    with simulated optimized metrics.\n",
        "    \"\"\"\n",
        "    optimized_metrics = {\n",
        "        'Actuator response time': 0.11,\n",
        "        'Sensor feedback delay': 0.08\n",
        "    }\n",
        "    return optimized_metrics\n",
        "\n",
        "# --- Initial State (Problem) ---\n",
        "print(\"--- Initial Performance Metrics ---\")\n",
        "\n",
        "initial_metrics = {\n",
        "    'Actuator response time': 0.18,\n",
        "    'Actuator target time': 0.10,\n",
        "    'Sensor feedback delay': 0.15,\n",
        "    'Sensor target time': 0.09\n",
        "}\n",
        "\n",
        "print(f\"Actuator response time: {initial_metrics['Actuator response time']} seconds (exceeds target of {initial_metrics['Actuator target time']} seconds)\")\n",
        "print(f\"Sensor feedback delay: {initial_metrics['Sensor feedback delay']} seconds (exceeds target of {initial_metrics['Sensor target time']} seconds)\")\n",
        "\n",
        "# --- Optimization Process ---\n",
        "print(\"\\n--- Applying Optimizations... ---\\n\")\n",
        "\n",
        "# Simulate the new, improved metrics\n",
        "optimized_metrics = simulate_optimization(initial_metrics)\n",
        "\n",
        "# --- Final State (Solution) ---\n",
        "print(\"--- Post-Optimization Metrics ---\")\n",
        "print(f\"Actuator response time: Improved to {optimized_metrics['Actuator response time']} seconds\")\n",
        "print(f\"Sensor feedback delay: Improved to {optimized_metrics['Sensor feedback delay']} seconds\")"
      ],
      "metadata": {
        "colab": {
          "base_uri": "https://localhost:8080/"
        },
        "id": "OVbZtnbPaJGg",
        "outputId": "e902253c-6081-4189-95b1-46038da73766"
      },
      "execution_count": 3,
      "outputs": [
        {
          "output_type": "stream",
          "name": "stdout",
          "text": [
            "--- Initial Performance Metrics ---\n",
            "Actuator response time: 0.18 seconds (exceeds target of 0.1 seconds)\n",
            "Sensor feedback delay: 0.15 seconds (exceeds target of 0.09 seconds)\n",
            "\n",
            "--- Applying Optimizations... ---\n",
            "\n",
            "--- Post-Optimization Metrics ---\n",
            "Actuator response time: Improved to 0.11 seconds\n",
            "Sensor feedback delay: Improved to 0.08 seconds\n"
          ]
        }
      ]
    }
  ],
  "metadata": {
    "colab": {
      "provenance": [],
      "include_colab_link": true
    },
    "kernelspec": {
      "display_name": "Python 3",
      "name": "python3"
    }
  },
  "nbformat": 4,
  "nbformat_minor": 0
}